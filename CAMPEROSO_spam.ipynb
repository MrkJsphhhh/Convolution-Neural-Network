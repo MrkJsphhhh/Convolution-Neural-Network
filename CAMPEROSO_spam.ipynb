{
 "cells": [
  {
   "cell_type": "code",
   "execution_count": 1,
   "id": "7ead91e2",
   "metadata": {},
   "outputs": [],
   "source": [
    "import numpy as np # linear algebra\n",
    "import pandas as pd # data processing, CSV file I/O (e.g. pd.read_csv)\n",
    "import matplotlib.pyplot as plt \n",
    "import tensorflow as tf  \n",
    "from tensorflow.keras.models import Sequential\n",
    "from tensorflow.keras.layers import Dense\n",
    "from sklearn.model_selection import train_test_split\n",
    "from tensorflow.keras.preprocessing.text import Tokenizer\n",
    "from tensorflow.keras.preprocessing.sequence import pad_sequences\n"
   ]
  },
  {
   "cell_type": "code",
   "execution_count": 2,
   "id": "75b4b12b",
   "metadata": {},
   "outputs": [],
   "source": [
    "#Data Preparation\n",
    "data = pd.read_csv('spam.csv',encoding='latin-1')\n",
    "\n",
    "data = data.drop([\"Unnamed: 2\", \"Unnamed: 3\", \"Unnamed: 4\"], axis=1)\n",
    "data = data.rename(columns={\"v1\":'label', \"v2\":'text'})\n",
    "#print(data.head())\n",
    "tags = data[\"label\"]\n",
    "texts = data[\"text\"]"
   ]
  },
  {
   "cell_type": "code",
   "execution_count": 3,
   "id": "914d8bdc",
   "metadata": {},
   "outputs": [],
   "source": [
    "#Classify label as 0 and 1\n",
    "data['label'].unique()\n",
    "label = {'spam': 1,'ham': 0}\n",
    "data['label'].replace(label, inplace=True)"
   ]
  },
  {
   "cell_type": "code",
   "execution_count": 4,
   "id": "64f852f7",
   "metadata": {},
   "outputs": [],
   "source": [
    "\n",
    "# Separate tags and texts into training and test sets\n",
    "training_size = int(len(texts) * 0.8)\n",
    "\n",
    "training_texts = texts[0:training_size]\n",
    "testing_texts = texts[training_size:]\n",
    "training_tags = tags[0:training_size]\n",
    "testing_tags = tags[training_size:]\n",
    "\n",
    "# Make labels into numpy arrays\n",
    "training_tags_final = np.array(training_tags)\n",
    "testing_tags_final = np.array(testing_tags)"
   ]
  },
  {
   "cell_type": "code",
   "execution_count": 5,
   "id": "ea0c69e9",
   "metadata": {},
   "outputs": [],
   "source": [
    "#Tokenize Dataset \n",
    "vocab_size = 1000\n",
    "embedding_dim = 16\n",
    "max_length = 100\n",
    "trunc_type='post'\n",
    "padding_type='post'\n",
    "oov_tok = \"<OOV>\"\n",
    "\n",
    "tokenizer = Tokenizer(num_words = vocab_size, oov_token=oov_tok)\n",
    "tokenizer.fit_on_texts(training_texts)\n",
    "word_index = tokenizer.word_index\n",
    "sequences = tokenizer.texts_to_sequences(training_texts)\n",
    "padded = pad_sequences(sequences,maxlen=max_length, padding=padding_type, \n",
    "                       truncating=trunc_type)\n",
    "\n",
    "testing_sequences = tokenizer.texts_to_sequences(testing_texts)\n",
    "testing_padded = pad_sequences(testing_sequences,maxlen=max_length, \n",
    "                               padding=padding_type, truncating=trunc_type)"
   ]
  },
  {
   "cell_type": "code",
   "execution_count": 14,
   "id": "fa423442",
   "metadata": {},
   "outputs": [
    {
     "name": "stdout",
     "output_type": "stream",
     "text": [
      "35/35 [==============================] - 1s 21ms/step - loss: 0.6867 - accuracy: 0.8466\n",
      "Accuracy: 84.66\n",
      "Model: \"sequential_3\"\n",
      "_________________________________________________________________\n",
      " Layer (type)                Output Shape              Param #   \n",
      "=================================================================\n",
      " embedding_3 (Embedding)     (None, 100, 16)           16000     \n",
      "                                                                 \n",
      " flatten_3 (Flatten)         (None, 1600)              0         \n",
      "                                                                 \n",
      " dense_9 (Dense)             (None, 15)                24015     \n",
      "                                                                 \n",
      " dense_10 (Dense)            (None, 5)                 80        \n",
      "                                                                 \n",
      " dense_11 (Dense)            (None, 1)                 6         \n",
      "                                                                 \n",
      "=================================================================\n",
      "Total params: 40,101\n",
      "Trainable params: 40,101\n",
      "Non-trainable params: 0\n",
      "_________________________________________________________________\n"
     ]
    }
   ],
   "source": [
    "#Modelling\n",
    "model = tf.keras.Sequential([\n",
    "    tf.keras.layers.Embedding(vocab_size, embedding_dim, input_length=max_length),\n",
    "    tf.keras.layers.Flatten(),\n",
    "    tf.keras.layers.Dense(15, activation='relu'),\n",
    "    tf.keras.layers.Dense(5, activation='relu'),\n",
    "    tf.keras.layers.Dense(1, activation='sigmoid')\n",
    "])\n",
    "model.compile(loss='binary_crossentropy',optimizer='adam',metrics=['accuracy'])\n",
    "model.summary()"
   ]
  },
  {
   "cell_type": "code",
   "execution_count": 15,
   "id": "c457f4fa",
   "metadata": {},
   "outputs": [
    {
     "name": "stdout",
     "output_type": "stream",
     "text": [
      "Epoch 1/30\n",
      "140/140 [==============================] - 4s 24ms/step - loss: 0.3172 - accuracy: 0.8640 - val_loss: 0.1698 - val_accuracy: 0.8700\n",
      "Epoch 2/30\n",
      "140/140 [==============================] - 4s 30ms/step - loss: 0.1531 - accuracy: 0.9361 - val_loss: 0.1301 - val_accuracy: 0.9740\n",
      "Epoch 3/30\n",
      "140/140 [==============================] - 4s 26ms/step - loss: 0.0962 - accuracy: 0.9829 - val_loss: 0.0657 - val_accuracy: 0.9821\n",
      "Epoch 4/30\n",
      "140/140 [==============================] - 4s 27ms/step - loss: 0.0404 - accuracy: 0.9895 - val_loss: 0.0545 - val_accuracy: 0.9803\n",
      "Epoch 5/30\n",
      "140/140 [==============================] - 4s 27ms/step - loss: 0.0269 - accuracy: 0.9924 - val_loss: 0.0576 - val_accuracy: 0.9839\n",
      "Epoch 6/30\n",
      "140/140 [==============================] - 4s 30ms/step - loss: 0.0196 - accuracy: 0.9944 - val_loss: 0.0526 - val_accuracy: 0.9830\n",
      "Epoch 7/30\n",
      "140/140 [==============================] - 4s 28ms/step - loss: 0.0142 - accuracy: 0.9953 - val_loss: 0.0561 - val_accuracy: 0.9821\n",
      "Epoch 8/30\n",
      "140/140 [==============================] - 3s 24ms/step - loss: 0.0105 - accuracy: 0.9975 - val_loss: 0.0566 - val_accuracy: 0.9839\n",
      "Epoch 9/30\n",
      "140/140 [==============================] - 4s 29ms/step - loss: 0.0089 - accuracy: 0.9984 - val_loss: 0.0610 - val_accuracy: 0.9839\n",
      "Epoch 10/30\n",
      "140/140 [==============================] - 4s 27ms/step - loss: 0.0072 - accuracy: 0.9989 - val_loss: 0.0656 - val_accuracy: 0.9848\n",
      "Epoch 11/30\n",
      "140/140 [==============================] - 3s 25ms/step - loss: 0.0064 - accuracy: 0.9989 - val_loss: 0.0677 - val_accuracy: 0.9857\n",
      "Epoch 12/30\n",
      "140/140 [==============================] - 4s 29ms/step - loss: 0.0055 - accuracy: 0.9993 - val_loss: 0.0708 - val_accuracy: 0.9865\n",
      "Epoch 13/30\n",
      "140/140 [==============================] - 3s 22ms/step - loss: 0.0046 - accuracy: 0.9993 - val_loss: 0.0757 - val_accuracy: 0.9857\n",
      "Epoch 14/30\n",
      "140/140 [==============================] - 5s 34ms/step - loss: 0.0041 - accuracy: 0.9993 - val_loss: 0.0726 - val_accuracy: 0.9865\n",
      "Epoch 15/30\n",
      "140/140 [==============================] - 5s 33ms/step - loss: 0.0039 - accuracy: 0.9996 - val_loss: 0.0780 - val_accuracy: 0.9865\n",
      "Epoch 16/30\n",
      "140/140 [==============================] - 4s 26ms/step - loss: 0.0034 - accuracy: 0.9993 - val_loss: 0.0767 - val_accuracy: 0.9865\n",
      "Epoch 17/30\n",
      "140/140 [==============================] - 4s 28ms/step - loss: 0.0030 - accuracy: 0.9998 - val_loss: 0.0867 - val_accuracy: 0.9865\n",
      "Epoch 18/30\n",
      "140/140 [==============================] - 4s 30ms/step - loss: 0.0026 - accuracy: 0.9996 - val_loss: 0.0845 - val_accuracy: 0.9874\n",
      "Epoch 19/30\n",
      "140/140 [==============================] - 4s 30ms/step - loss: 0.0024 - accuracy: 0.9998 - val_loss: 0.0899 - val_accuracy: 0.9857\n",
      "Epoch 20/30\n",
      "140/140 [==============================] - 6s 40ms/step - loss: 0.0024 - accuracy: 0.9998 - val_loss: 0.0902 - val_accuracy: 0.9857\n",
      "Epoch 21/30\n",
      "140/140 [==============================] - 6s 40ms/step - loss: 0.0021 - accuracy: 0.9998 - val_loss: 0.0928 - val_accuracy: 0.9848\n",
      "Epoch 22/30\n",
      "140/140 [==============================] - 4s 30ms/step - loss: 0.0020 - accuracy: 0.9998 - val_loss: 0.0907 - val_accuracy: 0.9857\n",
      "Epoch 23/30\n",
      "140/140 [==============================] - 5s 32ms/step - loss: 0.0019 - accuracy: 0.9998 - val_loss: 0.0939 - val_accuracy: 0.9839\n",
      "Epoch 24/30\n",
      "140/140 [==============================] - 3s 25ms/step - loss: 0.0019 - accuracy: 0.9998 - val_loss: 0.0964 - val_accuracy: 0.9839\n",
      "Epoch 25/30\n",
      "140/140 [==============================] - 4s 28ms/step - loss: 0.0018 - accuracy: 0.9998 - val_loss: 0.0982 - val_accuracy: 0.9848\n",
      "Epoch 26/30\n",
      "140/140 [==============================] - 3s 23ms/step - loss: 0.0019 - accuracy: 0.9998 - val_loss: 0.1024 - val_accuracy: 0.9848\n",
      "Epoch 27/30\n",
      "140/140 [==============================] - 4s 30ms/step - loss: 0.0017 - accuracy: 0.9998 - val_loss: 0.1088 - val_accuracy: 0.9830\n",
      "Epoch 28/30\n",
      "140/140 [==============================] - 4s 25ms/step - loss: 0.0016 - accuracy: 0.9996 - val_loss: 0.1040 - val_accuracy: 0.9821\n",
      "Epoch 29/30\n",
      "140/140 [==============================] - 4s 29ms/step - loss: 0.0015 - accuracy: 0.9998 - val_loss: 0.1045 - val_accuracy: 0.9848\n",
      "Epoch 30/30\n",
      "140/140 [==============================] - 4s 27ms/step - loss: 0.0011 - accuracy: 0.9996 - val_loss: 0.1063 - val_accuracy: 0.9848\n",
      "35/35 [==============================] - 1s 15ms/step - loss: 0.1063 - accuracy: 0.9848\n",
      "Accuracy: 98.48\n"
     ]
    }
   ],
   "source": [
    "num_epochs = 30\n",
    "history=model.fit(padded, training_tags_final, epochs=num_epochs, validation_data=(testing_padded, testing_tags_final))\n",
    "#Evaluate the model\n",
    "_,accuracy = model.evaluate(testing_padded, testing_tags_final)\n",
    "print('Accuracy: %.2f' % (accuracy*100))"
   ]
  },
  {
   "cell_type": "code",
   "execution_count": 8,
   "id": "a438a23d",
   "metadata": {},
   "outputs": [
    {
     "name": "stdout",
     "output_type": "stream",
     "text": [
      "dict_keys(['loss', 'accuracy', 'val_loss', 'val_accuracy'])\n"
     ]
    },
    {
     "data": {
      "image/png": "[encoded data removed]",
      "text/plain": [
       "<Figure size 640x480 with 1 Axes>"
      ]
     },
     "metadata": {},
     "output_type": "display_data"
    }
   ],
   "source": [
    "# list all data in history\n",
    "print(history.history.keys())\n",
    "# summarize history for accuracy\n",
    "plt.plot(history.history['loss'])\n",
    "plt.plot(history.history['val_loss'])\n",
    "plt.title('model loss')\n",
    "plt.ylabel('loss')\n",
    "plt.xlabel('epoch')\n",
    "plt.legend(['train', 'val'], loc='upper left')\n",
    "plt.show()"
   ]
  },
  {
   "cell_type": "code",
   "execution_count": 16,
   "id": "78e805de",
   "metadata": {},
   "outputs": [
    {
     "data": {
      "text/html": [
       "<div>\n",
       "<style scoped>\n",
       "    .dataframe tbody tr th:only-of-type {\n",
       "        vertical-align: middle;\n",
       "    }\n",
       "\n",
       "    .dataframe tbody tr th {\n",
       "        vertical-align: top;\n",
       "    }\n",
       "\n",
       "    .dataframe thead th {\n",
       "        text-align: right;\n",
       "    }\n",
       "</style>\n",
       "<table border=\"1\" class=\"dataframe\">\n",
       "  <thead>\n",
       "    <tr style=\"text-align: right;\">\n",
       "      <th></th>\n",
       "      <th>labels</th>\n",
       "      <th>texts</th>\n",
       "    </tr>\n",
       "  </thead>\n",
       "  <tbody>\n",
       "    <tr>\n",
       "      <th>0</th>\n",
       "      <td>1</td>\n",
       "      <td>Feel Yourself That You Are Always Happy.. Slow...</td>\n",
       "    </tr>\n",
       "    <tr>\n",
       "      <th>1</th>\n",
       "      <td>2</td>\n",
       "      <td>staff.science.nus.edu.sg/~phyhcmk/teaching/pc1323</td>\n",
       "    </tr>\n",
       "    <tr>\n",
       "      <th>2</th>\n",
       "      <td>3</td>\n",
       "      <td>Send me yetty's number pls.</td>\n",
       "    </tr>\n",
       "    <tr>\n",
       "      <th>3</th>\n",
       "      <td>4</td>\n",
       "      <td>Hey so this sat are we going for the intro pil...</td>\n",
       "    </tr>\n",
       "    <tr>\n",
       "      <th>4</th>\n",
       "      <td>5</td>\n",
       "      <td>I got it before the new year cos yetunde said ...</td>\n",
       "    </tr>\n",
       "  </tbody>\n",
       "</table>\n",
       "</div>"
      ],
      "text/plain": [
       "   labels                                              texts\n",
       "0       1  Feel Yourself That You Are Always Happy.. Slow...\n",
       "1       2  staff.science.nus.edu.sg/~phyhcmk/teaching/pc1323\n",
       "2       3                        Send me yetty's number pls.\n",
       "3       4  Hey so this sat are we going for the intro pil...\n",
       "4       5  I got it before the new year cos yetunde said ..."
      ]
     },
     "execution_count": 16,
     "metadata": {},
     "output_type": "execute_result"
    }
   ],
   "source": [
    "data = pd.read_csv('output_spam.csv',encoding='latin-1')\n",
    "\n",
    "data = data.rename(columns={\"ï»¿\":'labels', \"text\":'texts'})\n",
    "data.head()"
   ]
  },
  {
   "cell_type": "code",
   "execution_count": 17,
   "id": "41fc3aa7",
   "metadata": {},
   "outputs": [
    {
     "name": "stdout",
     "output_type": "stream",
     "text": [
      "1/1 [==============================] - 0s 64ms/step\n",
      "Feel Yourself That You Are Always Happy.. Slowly It Becomes Your Habit &amp; Finally It Becomes Part Of Your Life.. Follow It.. Happy Morning &amp; Have A Happy Day:)\n",
      "[2.2609434e-12]\n",
      "\n",
      "\n",
      "staff.science.nus.edu.sg/~phyhcmk/teaching/pc1323\n",
      "[0.00126462]\n",
      "\n",
      "\n",
      "Send me yetty's number pls.\n",
      "[8.227139e-06]\n",
      "\n",
      "\n",
      "Hey so this sat are we going for the intro pilates only? Or the kickboxing too? \n",
      "[5.30556e-07]\n",
      "\n",
      "\n",
      "I got it before the new year cos yetunde said she wanted to surprise you with it but when i didnt see money i returned it mid january before the  &lt;#&gt; day return period ended.\n",
      "[6.924243e-10]\n",
      "\n",
      "\n",
      "Hey we can go jazz power yoga hip hop kb and yogasana \n",
      "[3.533625e-07]\n",
      "\n",
      "\n",
      "Hey mate. Spoke to the mag people. Weâ°ÃÃ·re on.  the is deliver by the end of the month. Deliver on the 24th sept. Talk later. \n",
      "[1.5868413e-07]\n",
      "\n",
      "\n",
      "Morning only i can ok.\n",
      "[2.080231e-08]\n",
      "\n",
      "\n",
      "Wat time Ã_ finish?\n",
      "[7.924379e-06]\n",
      "\n",
      "\n",
      "Shant disturb u anymore... Jia you...\n",
      "[2.7944829e-05]\n",
      "\n",
      "\n",
      "4mths half price Orange line rental & latest camera phones 4 FREE. Had your phone 11mths ? Call MobilesDirect free on 08000938767 to update now! or2stoptxt\n",
      "[0.9999421]\n",
      "\n",
      "\n",
      "Your opinion about me? 1. Over 2. Jada 3. Kusruthi 4. Lovable 5. Silent 6. Spl character 7. Not matured 8. Stylish 9. Simple Pls reply..\n",
      "[2.5819566e-06]\n",
      "\n",
      "\n",
      "MOON has come to color your dreams, STARS to make them musical and my SMS to give you warm and Peaceful Sleep. Good Night\n",
      "[1.447877e-05]\n",
      "\n",
      "\n",
      "You are a winner U have been specially selected 2 receive Ã¥Â£1000 cash or a 4* holiday (flights inc) speak to a live operator 2 claim 0871277810810\n",
      "[0.99994797]\n",
      "\n",
      "\n",
      "Unless it's a situation where YOU GO GURL would be more appropriate\n",
      "[8.522695e-06]\n",
      "\n",
      "\n",
      "Awww dat is sweet! We can think of something to do he he! Have a nice time tonight ill probably txt u later cos im lonely :( xxx.\n",
      "[6.3316787e-12]\n",
      "\n",
      "\n",
      "Bring tat cd don forget\n",
      "[3.6065805e-05]\n",
      "\n",
      "\n",
      "Single line with a big meaning::::: \\Miss anything 4 ur \\\"Best Life\\\" but\n",
      "[9.495572e-06]\n",
      "\n",
      "\n",
      "Jay's getting really impatient and belligerent\n",
      "[0.00028758]\n",
      "\n",
      "\n",
      "Lol they were mad at first but then they woke up and gave in.\n",
      "[3.8099927e-07]\n",
      "\n",
      "\n"
     ]
    }
   ],
   "source": [
    "messages = data['texts'] #.astype(str)\n",
    " #[\"How are you today\", \"You won 5000 pesos. Please click the link https://twitter.com/home\"] \n",
    "# Create the sequences\n",
    "padding_type='post'\n",
    "sample_sequences = tokenizer.texts_to_sequences(messages)\n",
    "fakes_padded = pad_sequences(sample_sequences, padding=padding_type, maxlen=max_length)           \n",
    "\n",
    "classes = model.predict(fakes_padded)\n",
    "\n",
    "# The closer the class is to 1, the more likely that the message is spam\n",
    "for x in range(len(messages)):\n",
    "    print(messages[x])\n",
    "    score = print(classes[x])\n",
    "    print('\\n')"
   ]
  },
  {
   "cell_type": "code",
   "execution_count": 18,
   "id": "b6604eed",
   "metadata": {},
   "outputs": [
    {
     "name": "stdout",
     "output_type": "stream",
     "text": [
      "    Test Loss: 0.1063\n",
      "Test Accuracy: 98.48%\n"
     ]
    }
   ],
   "source": [
    "results = model.evaluate(testing_padded, testing_tags_final, verbose=0)\n",
    "\n",
    "print(\"    Test Loss: {:.4f}\".format(results[0]))\n",
    "print(\"Test Accuracy: {:.2f}%\".format(results[1] * 100))\n"
   ]
  },
  {
   "cell_type": "code",
   "execution_count": null,
   "id": "56872bfa",
   "metadata": {},
   "outputs": [],
   "source": []
  },
  {
   "cell_type": "code",
   "execution_count": null,
   "id": "64ce2578",
   "metadata": {},
   "outputs": [],
   "source": []
  }
 ],
 "metadata": {
  "kernelspec": {
   "display_name": "Python 3 (ipykernel)",
   "language": "python",
   "name": "python3"
  },
  "language_info": {
   "codemirror_mode": {
    "name": "ipython",
    "version": 3
   },
   "file_extension": ".py",
   "mimetype": "text/x-python",
   "name": "python",
   "nbconvert_exporter": "python",
   "pygments_lexer": "ipython3",
   "version": "3.7.13"
  }
 },
 "nbformat": 4,
 "nbformat_minor": 5
}
